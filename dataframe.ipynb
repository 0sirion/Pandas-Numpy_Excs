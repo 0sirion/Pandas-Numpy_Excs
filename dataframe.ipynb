{
 "cells": [
  {
   "cell_type": "code",
   "execution_count": 2,
   "metadata": {},
   "outputs": [
    {
     "name": "stdout",
     "output_type": "stream",
     "text": [
      "    X   Y   Z\n",
      "0  78  84  86\n",
      "1  85  94  97\n",
      "2  96  89  96\n",
      "3  80  83  72\n",
      "4  86  86  83\n"
     ]
    }
   ],
   "source": [
    "# Es 1\n",
    "import pandas as pd\n",
    "\n",
    "df = pd.DataFrame({'X':[78,85,96,80,86], 'Y': [84,94,89,83,86], 'Z': [86,97,96,72,83]})\n",
    "print(df)"
   ]
  },
  {
   "cell_type": "code",
   "execution_count": 37,
   "metadata": {},
   "outputs": [
    {
     "name": "stdout",
     "output_type": "stream",
     "text": [
      "         name  score  attempts qualify\n",
      "1   Anastasia   12.5         1     yes\n",
      "2        Dima    9.0         3      no\n",
      "3   Katherine   16.5         2     yes\n",
      "4       James    NaN         3      no\n",
      "5       Emily    9.0         2      no\n",
      "6     Michael   20.0         3     yes\n",
      "7     Matthew   14.5         1     yes\n",
      "8       Laura    NaN         1      no\n",
      "9       Kevin    8.0         2      no\n",
      "10      Jonas   19.0         1     yes\n"
     ]
    }
   ],
   "source": [
    "# Es 2\n",
    "import pandas as pd\n",
    "import numpy as np\n",
    "\n",
    "exam_data  = {'name': ['Anastasia', 'Dima', 'Katherine', 'James', 'Emily', 'Michael', 'Matthew', 'Laura', 'Kevin', 'Jonas'],\n",
    "        'score': [12.5, 9, 16.5, np.nan, 9, 20, 14.5, np.nan, 8, 19],\n",
    "        'attempts': [1, 3, 2, 3, 2, 3, 1, 1, 2, 1],\n",
    "        'qualify': ['yes', 'no', 'yes', 'no', 'no', 'yes', 'yes', 'no', 'no', 'yes']}\n",
    "labels = range(1,11)\n",
    "    \n",
    "\n",
    "df = pd.DataFrame(exam_data , index=labels)\n",
    "print(df)"
   ]
  },
  {
   "cell_type": "code",
   "execution_count": 47,
   "metadata": {},
   "outputs": [
    {
     "name": "stdout",
     "output_type": "stream",
     "text": [
      "basic information datas:\n",
      "<class 'pandas.core.frame.DataFrame'>\n",
      "RangeIndex: 10 entries, 1 to 10\n",
      "Data columns (total 4 columns):\n",
      " #   Column    Non-Null Count  Dtype  \n",
      "---  ------    --------------  -----  \n",
      " 0   name      10 non-null     object \n",
      " 1   score     8 non-null      float64\n",
      " 2   attempts  10 non-null     int64  \n",
      " 3   qualify   10 non-null     object \n",
      "dtypes: float64(1), int64(1), object(2)\n",
      "memory usage: 452.0+ bytes\n",
      "None\n"
     ]
    }
   ],
   "source": [
    "# Es 3\n",
    "import pandas as pd \n",
    "import numpy as np\n",
    "\n",
    "df = pd.DataFrame(exam_data, index= labels)\n",
    "print('basic information datas:')\n",
    "print(df.info())\n"
   ]
  },
  {
   "cell_type": "code",
   "execution_count": 54,
   "metadata": {},
   "outputs": [
    {
     "name": "stdout",
     "output_type": "stream",
     "text": [
      "First three rows of the data frame:\n",
      "        name  score  attempts qualify\n",
      "3  Katherine   16.5         2     yes\n",
      "4      James    NaN         3      no\n",
      "5      Emily    9.0         2      no\n",
      "6    Michael   20.0         3     yes\n"
     ]
    }
   ],
   "source": [
    "# Es 4:\n",
    "import pandas as pd\n",
    "import numpy as np\n",
    "\n",
    "df = pd.DataFrame(exam_data , index=labels)\n",
    "print('First three rows of the data frame:')\n",
    "print(df.iloc[2:6])"
   ]
  },
  {
   "cell_type": "code",
   "execution_count": 58,
   "metadata": {},
   "outputs": [
    {
     "name": "stdout",
     "output_type": "stream",
     "text": [
      "here are some specifi columns:\n",
      "         name  score\n",
      "1   Anastasia   12.5\n",
      "2        Dima    9.0\n",
      "3   Katherine   16.5\n",
      "4       James    NaN\n",
      "5       Emily    9.0\n",
      "6     Michael   20.0\n",
      "7     Matthew   14.5\n",
      "8       Laura    NaN\n",
      "9       Kevin    8.0\n",
      "10      Jonas   19.0\n"
     ]
    }
   ],
   "source": [
    "# Es 5\n",
    "import pandas as pd \n",
    "import numpy as np\n",
    "\n",
    "df = pd.DataFrame(exam_data, index=labels)\n",
    "print('here are some specifi columns:')\n",
    "print(df[['name', 'score']])"
   ]
  },
  {
   "cell_type": "code",
   "execution_count": 59,
   "metadata": {},
   "outputs": [
    {
     "name": "stdout",
     "output_type": "stream",
     "text": [
      "Here are some specific columns and rows:\n",
      "   attempts qualify\n",
      "2         3      no\n",
      "4         3      no\n",
      "6         3     yes\n",
      "8         1      no\n"
     ]
    }
   ],
   "source": [
    "# Es  6\n",
    "import pandas as pd\n",
    "import numpy as np\n",
    "\n",
    "df =pd.DataFrame(exam_data, index=labels)\n",
    "print('Here are some specific columns and rows:')\n",
    "print(df.iloc[[1,3,5,7], [2,3]])"
   ]
  },
  {
   "cell_type": "code",
   "execution_count": 62,
   "metadata": {},
   "outputs": [
    {
     "name": "stdout",
     "output_type": "stream",
     "text": [
      "Number of attempts in te examination is greater than 2:\n",
      "      name  score  attempts qualify\n",
      "2     Dima    9.0         3      no\n",
      "4    James    NaN         3      no\n",
      "6  Michael   20.0         3     yes\n"
     ]
    }
   ],
   "source": [
    "# Es 7\n",
    "import pandas as pd\n",
    "import numpy as np\n",
    "df = pd.DataFrame(exam_data, index=labels)\n",
    "print('Number of attempts in te examination is greater than 2:')\n",
    "print(df[df['attempts'] > 2])"
   ]
  },
  {
   "cell_type": "code",
   "execution_count": 66,
   "metadata": {},
   "outputs": [
    {
     "name": "stdout",
     "output_type": "stream",
     "text": [
      "here is the numer of total rows and columns\n",
      "number of rows:10\n",
      "number of columns:4\n"
     ]
    }
   ],
   "source": [
    "# Es 8\n",
    "import pandas as pd\n",
    "import numpy as np\n",
    "\n",
    "df = pd.DataFrame(exam_data, index=labels)\n",
    "total_rows=len(df.axes[0])\n",
    "total_cols=len(df.axes[1])\n",
    "\n",
    "print('here is the numer of total rows and columns')\n",
    "print(\"number of rows:\" + str(total_rows))\n",
    "print(\"number of columns:\" + str(total_cols))"
   ]
  },
  {
   "cell_type": "code",
   "execution_count": 72,
   "metadata": {},
   "outputs": [
    {
     "name": "stdout",
     "output_type": "stream",
     "text": [
      "Rows with missing score value\n",
      "    name  score  attempts qualify\n",
      "4  James    NaN         3      no\n",
      "8  Laura    NaN         1      no\n"
     ]
    }
   ],
   "source": [
    "# Es 9\n",
    "import pandas as pd\n",
    "import numpy as np\n",
    "\n",
    "df  = pd.DataFrame(exam_data, index=labels)\n",
    "print('Rows with missing score value:')\n",
    "print(df[df['score'].isnull()])"
   ]
  },
  {
   "cell_type": "code",
   "execution_count": 78,
   "metadata": {},
   "outputs": [
    {
     "name": "stdout",
     "output_type": "stream",
     "text": [
      "Rows with score between 10 and 15(included):\n",
      "        name  score  attempts qualify\n",
      "1  Anastasia   12.5         1     yes\n",
      "7    Matthew   14.5         1     yes\n"
     ]
    }
   ],
   "source": [
    "# Es 10\n",
    "import pandas as pd\n",
    "import numpy as np\n",
    "\n",
    "df = pd.DataFrame(exam_data, index=labels)\n",
    "print('Rows with score between 10 and 15(included):')\n",
    "print(df[df['score'].between(10,15)])"
   ]
  },
  {
   "cell_type": "code",
   "execution_count": 81,
   "metadata": {},
   "outputs": [
    {
     "name": "stdout",
     "output_type": "stream",
     "text": [
      "Number of attempts less than 2 and score greater than 15:\n",
      "         name  score  attempts qualify\n",
      "1   Anastasia   12.5         1     yes\n",
      "7     Matthew   14.5         1     yes\n",
      "10      Jonas   19.0         1     yes\n"
     ]
    }
   ],
   "source": [
    "# Es 11\n",
    "import pandas as pd\n",
    "import numpy as np\n",
    "df  = pd.DataFrame(exam_data, index=labels)\n",
    "print('Number of attempts less than 2 and score greater than 15:')\n",
    "print(df[(df['attempts'] < 2) & (df['score'] > 10)])"
   ]
  },
  {
   "cell_type": "code",
   "execution_count": 3,
   "metadata": {},
   "outputs": [
    {
     "name": "stdout",
     "output_type": "stream",
     "text": [
      "\n",
      "Sum of the examination attempts by the students:\n",
      "19\n"
     ]
    }
   ],
   "source": [
    "import pandas as pd\n",
    "import numpy as np\n",
    "exam_data  = {'name': ['Anastasia', 'Dima', 'Katherine', 'James', 'Emily', 'Michael', 'Matthew', 'Laura', 'Kevin', 'Jonas'],\n",
    "        'score': [12.5, 9, 16.5, np.nan, 9, 20, 14.5, np.nan, 8, 19],\n",
    "        'attempts': [1, 3, 2, 3, 2, 3, 1, 1, 2, 1],\n",
    "        'qualify': ['yes', 'no', 'yes', 'no', 'no', 'yes', 'yes', 'no', 'no', 'yes']}\n",
    "labels = ['a', 'b', 'c', 'd', 'e', 'f', 'g', 'h', 'i', 'j']\n",
    "\n",
    "df = pd.DataFrame(exam_data , index=labels)\n",
    "print(\"\\nSum of the examination attempts by the students:\")\n",
    "print(df['attempts'].sum())"
   ]
  },
  {
   "cell_type": "code",
   "execution_count": 8,
   "metadata": {},
   "outputs": [
    {
     "name": "stdout",
     "output_type": "stream",
     "text": [
      "here is the sum of attempts made by students:\n",
      "19\n"
     ]
    }
   ],
   "source": [
    "# Es 13\n",
    "import pandas as pd\n",
    "import numpy as np\n",
    "\n",
    "exam_data = {'name':['Anastasia', 'Diana', 'Katherine', 'James', 'Emily', 'Miceal', 'Matthew', 'Laura', 'Kevin', 'Jonas'],\n",
    "             'score': [12.5, 9, 16.5, np.nan, 9, 20, 14.5, np.nan, 8, 19],\n",
    "             'attempts':[1,3,2, 3, 2, 3, 1, 1, 2, 1],\n",
    "             'qualify':['yes', 'no','yes','no', 'no', 'yes', 'yes', 'no','no', 'yes']}\n",
    "labels = ['a', 'b', 'c', 'd', 'e', 'f', 'g', ' h', 'i', 'j',]\n",
    "\n",
    "df = pd.DataFrame(exam_data, index= labels)\n",
    "print('here is the sum of attempts made by students:')\n",
    "print(df['attempts'].sum())"
   ]
  },
  {
   "cell_type": "code",
   "execution_count": 10,
   "metadata": {},
   "outputs": [
    {
     "name": "stdout",
     "output_type": "stream",
     "text": [
      "\n",
      "Mean score for each different student in dataframe:\n",
      "13.5625\n"
     ]
    }
   ],
   "source": [
    "# Es 14\n",
    "\n",
    "import pandas as pd\n",
    "import numpy as np\n",
    "\n",
    "df = pd.DataFrame(exam_data, index= labels)\n",
    "print(\"\\nMean score for each different student in dataframe:\")\n",
    "print(df['score'].mean())"
   ]
  },
  {
   "cell_type": "code",
   "execution_count": 14,
   "metadata": {},
   "outputs": [
    {
     "name": "stdout",
     "output_type": "stream",
     "text": [
      "New record inserted:\n",
      "         name score attempts qualify\n",
      "a   Anastasia  12.5        1     yes\n",
      "b       Diana   9.0        3      no\n",
      "c   Katherine  16.5        2     yes\n",
      "d       James   NaN        3      no\n",
      "e       Emily   9.0        2      no\n",
      "f      Miceal  20.0        3     yes\n",
      "g     Matthew  14.5        1     yes\n",
      " h      Laura   NaN        1      no\n",
      "i       Kevin   8.0        2      no\n",
      "j       Jonas  19.0        1     yes\n",
      "k           1  Rick      yes    15.5\n",
      "\n",
      "Deleting the new row:\n",
      "         name score attempts qualify\n",
      "a   Anastasia  12.5        1     yes\n",
      "b       Diana   9.0        3      no\n",
      "c   Katherine  16.5        2     yes\n",
      "d       James   NaN        3      no\n",
      "e       Emily   9.0        2      no\n",
      "f      Miceal  20.0        3     yes\n",
      "g     Matthew  14.5        1     yes\n",
      " h      Laura   NaN        1      no\n",
      "i       Kevin   8.0        2      no\n",
      "j       Jonas  19.0        1     yes\n"
     ]
    }
   ],
   "source": [
    "# Es 15\n",
    "import pandas as pd\n",
    "import numpy as np\n",
    "df= pd.DataFrame(exam_data, index=labels)\n",
    "\n",
    "df.loc['k'] = [1, 'Rick', 'yes', '15.5']\n",
    "print('New record inserted:')\n",
    "print(df)\n",
    "print(\"\\nDeleting the new row:\")\n",
    "df= df.drop('k')\n",
    "print(df)"
   ]
  },
  {
   "cell_type": "code",
   "execution_count": 18,
   "metadata": {},
   "outputs": [
    {
     "name": "stdout",
     "output_type": "stream",
     "text": [
      "original rows:\n",
      "Printing Dataframe in descending order for names and ascending order for scores:\n",
      "         name  score  attempts qualify\n",
      "a   Anastasia   12.5         1     yes\n",
      "b       Diana    9.0         3      no\n",
      "c   Katherine   16.5         2     yes\n",
      "d       James    NaN         3      no\n",
      "e       Emily    9.0         2      no\n",
      "f      Miceal   20.0         3     yes\n",
      "g     Matthew   14.5         1     yes\n",
      " h      Laura    NaN         1      no\n",
      "i       Kevin    8.0         2      no\n",
      "j       Jonas   19.0         1     yes\n"
     ]
    }
   ],
   "source": [
    "# Es 16 Write a Pandas program to sort the data frame first by 'name' in descending order, then by 'score' in ascending order.\n",
    "import pandas as pd\n",
    "import numpy as np\n",
    "\n",
    "df = pd.DataFrame(exam_data, index= labels)\n",
    "print(\"original rows:\")\n",
    "df.sort_values(by=['name', 'score'],ascending=[False, True])\n",
    "print('Printing Dataframe in descending order for names and ascending order for scores:')\n",
    "print(df)"
   ]
  },
  {
   "cell_type": "code",
   "execution_count": 27,
   "metadata": {},
   "outputs": [
    {
     "name": "stdout",
     "output_type": "stream",
     "text": [
      "original rows:\n",
      "         name  score  attempts qualify\n",
      "a   Anastasia   12.5         1     yes\n",
      "b       Diana    9.0         3      no\n",
      "c   Katherine   16.5         2     yes\n",
      "d       James    NaN         3      no\n",
      "e       Emily    9.0         2      no\n",
      "f      Miceal   20.0         3     yes\n",
      "g     Matthew   14.5         1     yes\n",
      " h      Laura    NaN         1      no\n",
      "i       Kevin    8.0         2      no\n",
      "j       Jonas   19.0         1     yes\n",
      "\n",
      "Replacing qualify value with 'yes' and 'no' with  True and False\n",
      "         name  score  attempts  qualify\n",
      "a   Anastasia   12.5         1     True\n",
      "b       Diana    9.0         3    False\n",
      "c   Katherine   16.5         2     True\n",
      "d       James    NaN         3    False\n",
      "e       Emily    9.0         2    False\n",
      "f      Miceal   20.0         3     True\n",
      "g     Matthew   14.5         1     True\n",
      " h      Laura    NaN         1    False\n",
      "i       Kevin    8.0         2    False\n",
      "j       Jonas   19.0         1     True\n"
     ]
    }
   ],
   "source": [
    "import pandas as pd\n",
    "import numpy as np\n",
    "\n",
    "df = pd.DataFrame(exam_data, index=labels)\n",
    "print('original rows:')\n",
    "print(df)\n",
    "print(\"\\nReplacing qualify value with 'yes' and 'no' with  True and False\")\n",
    "df['qualify'] = df['qualify'].map({'yes':True, 'no':False})\n",
    "print(df)"
   ]
  },
  {
   "cell_type": "code",
   "execution_count": 30,
   "metadata": {},
   "outputs": [
    {
     "name": "stdout",
     "output_type": "stream",
     "text": [
      "orignal rows:\n",
      "         name  score  attempts qualify\n",
      "a   Anastasia   12.5         1     yes\n",
      "b       Diana    9.0         3      no\n",
      "c   Katherine   16.5         2     yes\n",
      "d       James    NaN         3      no\n",
      "e       Emily    9.0         2      no\n",
      "f      Miceal   20.0         3     yes\n",
      "g     Matthew   14.5         1     yes\n",
      " h      Laura    NaN         1      no\n",
      "i       Kevin    8.0         2      no\n",
      "j       Jonas   19.0         1     yes\n",
      "\n",
      "Changing the name 'James' with the neme 'John' :\n",
      "         name  score  attempts qualify\n",
      "a   Anastasia   12.5         1     yes\n",
      "b       Diana    9.0         3      no\n",
      "c   Katherine   16.5         2     yes\n",
      "d        John    NaN         3      no\n",
      "e       Emily    9.0         2      no\n",
      "f      Miceal   20.0         3     yes\n",
      "g     Matthew   14.5         1     yes\n",
      " h      Laura    NaN         1      no\n",
      "i       Kevin    8.0         2      no\n",
      "j       Jonas   19.0         1     yes\n"
     ]
    }
   ],
   "source": [
    "# Es 18\n",
    "\n",
    "import pandas as pd\n",
    "import numpy as np\n",
    "\n",
    "df = pd.DataFrame(exam_data, index= labels)\n",
    "print('orignal rows:')\n",
    "print(df)\n",
    "print(\"\\nChanging the name 'James' with the neme 'John' :\")\n",
    "df['name'] = df['name'].replace('James','John')\n",
    "print(df)"
   ]
  },
  {
   "cell_type": "code",
   "execution_count": 32,
   "metadata": {},
   "outputs": [
    {
     "name": "stdout",
     "output_type": "stream",
     "text": [
      "Original rows:\n",
      "         name  score  attempts qualify\n",
      "a   Anastasia   12.5         1     yes\n",
      "b       Diana    9.0         3      no\n",
      "c   Katherine   16.5         2     yes\n",
      "d       James    NaN         3      no\n",
      "e       Emily    9.0         2      no\n",
      "f      Miceal   20.0         3     yes\n",
      "g     Matthew   14.5         1     yes\n",
      " h      Laura    NaN         1      no\n",
      "i       Kevin    8.0         2      no\n",
      "j       Jonas   19.0         1     yes\n",
      "\n",
      "Deleting 'attempt' columns from dataframe:\n",
      "         name  score qualify\n",
      "a   Anastasia   12.5     yes\n",
      "b       Diana    9.0      no\n",
      "c   Katherine   16.5     yes\n",
      "d       James    NaN      no\n",
      "e       Emily    9.0      no\n",
      "f      Miceal   20.0     yes\n",
      "g     Matthew   14.5     yes\n",
      " h      Laura    NaN      no\n",
      "i       Kevin    8.0      no\n",
      "j       Jonas   19.0     yes\n"
     ]
    }
   ],
   "source": [
    "# Es 19\n",
    "import pandas as pd\n",
    "import numpy as np\n",
    "\n",
    "df = pd.DataFrame(exam_data, index= labels)\n",
    "print(\"Original rows:\")\n",
    "print(df)\n",
    "print(\"\\nDeleting 'attempt' columns from dataframe:\")\n",
    "df.pop('attempts')\n",
    "print(df)"
   ]
  },
  {
   "cell_type": "code",
   "execution_count": 34,
   "metadata": {},
   "outputs": [
    {
     "name": "stdout",
     "output_type": "stream",
     "text": [
      "original rows:\n",
      "         name  score  attempts qualify\n",
      "a   Anastasia   12.5         1     yes\n",
      "b       Diana    9.0         3      no\n",
      "c   Katherine   16.5         2     yes\n",
      "d       James    NaN         3      no\n",
      "e       Emily    9.0         2      no\n",
      "f      Miceal   20.0         3     yes\n",
      "g     Matthew   14.5         1     yes\n",
      " h      Laura    NaN         1      no\n",
      "i       Kevin    8.0         2      no\n",
      "j       Jonas   19.0         1     yes\n",
      "\n",
      "Dataframe after inserting new column 'color':\n",
      "         name  score  attempts qualify   color\n",
      "a   Anastasia   12.5         1     yes     Red\n",
      "b       Diana    9.0         3      no    Blue\n",
      "c   Katherine   16.5         2     yes  Orange\n",
      "d       James    NaN         3      no     Red\n",
      "e       Emily    9.0         2      no   White\n",
      "f      Miceal   20.0         3     yes   White\n",
      "g     Matthew   14.5         1     yes    Blue\n",
      " h      Laura    NaN         1      no   Green\n",
      "i       Kevin    8.0         2      no   Green\n",
      "j       Jonas   19.0         1     yes     Red\n"
     ]
    }
   ],
   "source": [
    "# Es 20 Inserting a new column in existing dataframe\n",
    "\n",
    "import pandas as pd\n",
    "import numpy as np\n",
    "\n",
    "df = pd.DataFrame(exam_data, index= labels)\n",
    "print(\"original rows:\")\n",
    "print(df)\n",
    "color = ['Red','Blue','Orange','Red','White','White','Blue','Green','Green','Red']\n",
    "df['color'] = color\n",
    "print(\"\\nDataframe after inserting new column 'color':\")\n",
    "print(df)\n"
   ]
  },
  {
   "cell_type": "code",
   "execution_count": null,
   "metadata": {},
   "outputs": [],
   "source": []
  }
 ],
 "metadata": {
  "kernelspec": {
   "display_name": "Python 3",
   "language": "python",
   "name": "python3"
  },
  "language_info": {
   "codemirror_mode": {
    "name": "ipython",
    "version": 3
   },
   "file_extension": ".py",
   "mimetype": "text/x-python",
   "name": "python",
   "nbconvert_exporter": "python",
   "pygments_lexer": "ipython3",
   "version": "3.10.10"
  },
  "orig_nbformat": 4
 },
 "nbformat": 4,
 "nbformat_minor": 2
}
